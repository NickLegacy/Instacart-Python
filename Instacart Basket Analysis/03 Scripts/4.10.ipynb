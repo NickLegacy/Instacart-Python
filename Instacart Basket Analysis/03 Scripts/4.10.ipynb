{
 "cells": [
  {
   "cell_type": "markdown",
   "id": "9de712aa",
   "metadata": {},
   "source": [
    "# Importing Libraries"
   ]
  },
  {
   "cell_type": "code",
   "execution_count": 1,
   "id": "e83265df",
   "metadata": {},
   "outputs": [],
   "source": [
    "# Import Libraries\n",
    "import pandas as pd\n",
    "import numpy as np\n",
    "import os\n",
    "import matplotlib.pyplot as plt\n",
    "import seaborn as sns\n",
    "import scipy"
   ]
  },
  {
   "cell_type": "markdown",
   "id": "38ee8453",
   "metadata": {},
   "source": [
    "# Importing Dataframes"
   ]
  },
  {
   "cell_type": "code",
   "execution_count": 2,
   "id": "6f2b8d75",
   "metadata": {},
   "outputs": [],
   "source": [
    "# Define Path\n",
    "path = r'C:\\Users\\nickl\\Instacart Basket Analysis'"
   ]
  },
  {
   "cell_type": "code",
   "execution_count": 3,
   "id": "a928971a",
   "metadata": {},
   "outputs": [],
   "source": [
    "# Import merge.pkl\n",
    "merge = pd.read_pickle(os.path.join(path, '02 Data', 'Prepared Data', 'merge.pkl'))"
   ]
  },
  {
   "cell_type": "code",
   "execution_count": 4,
   "id": "e918b156",
   "metadata": {},
   "outputs": [
    {
     "data": {
      "text/plain": [
       "(32434212, 29)"
      ]
     },
     "execution_count": 4,
     "metadata": {},
     "output_type": "execute_result"
    }
   ],
   "source": [
    "# Check merge shape\n",
    "merge.shape"
   ]
  },
  {
   "cell_type": "code",
   "execution_count": 5,
   "id": "e486b636",
   "metadata": {},
   "outputs": [
    {
     "data": {
      "text/html": [
       "<div>\n",
       "<style scoped>\n",
       "    .dataframe tbody tr th:only-of-type {\n",
       "        vertical-align: middle;\n",
       "    }\n",
       "\n",
       "    .dataframe tbody tr th {\n",
       "        vertical-align: top;\n",
       "    }\n",
       "\n",
       "    .dataframe thead th {\n",
       "        text-align: right;\n",
       "    }\n",
       "</style>\n",
       "<table border=\"1\" class=\"dataframe\">\n",
       "  <thead>\n",
       "    <tr style=\"text-align: right;\">\n",
       "      <th></th>\n",
       "      <th>order_id</th>\n",
       "      <th>user_id</th>\n",
       "      <th>order_number</th>\n",
       "      <th>order_dow</th>\n",
       "      <th>order_hour_of_day</th>\n",
       "      <th>days_since_prior_order</th>\n",
       "      <th>product_id</th>\n",
       "      <th>add_to_cart_order</th>\n",
       "      <th>reordered</th>\n",
       "      <th>product_name</th>\n",
       "      <th>...</th>\n",
       "      <th>frequency_flag</th>\n",
       "      <th>First Name</th>\n",
       "      <th>Last Name</th>\n",
       "      <th>Gender</th>\n",
       "      <th>State</th>\n",
       "      <th>Age</th>\n",
       "      <th>Date Joined</th>\n",
       "      <th>Dependants</th>\n",
       "      <th>Status</th>\n",
       "      <th>income</th>\n",
       "    </tr>\n",
       "  </thead>\n",
       "  <tbody>\n",
       "    <tr>\n",
       "      <th>0</th>\n",
       "      <td>2539329</td>\n",
       "      <td>1</td>\n",
       "      <td>1</td>\n",
       "      <td>2</td>\n",
       "      <td>8</td>\n",
       "      <td>NaN</td>\n",
       "      <td>196</td>\n",
       "      <td>1</td>\n",
       "      <td>0</td>\n",
       "      <td>Soda</td>\n",
       "      <td>...</td>\n",
       "      <td>Non-frequent customer</td>\n",
       "      <td>Linda</td>\n",
       "      <td>Nguyen</td>\n",
       "      <td>Female</td>\n",
       "      <td>Alabama</td>\n",
       "      <td>31</td>\n",
       "      <td>2/17/2019</td>\n",
       "      <td>3</td>\n",
       "      <td>married</td>\n",
       "      <td>40423</td>\n",
       "    </tr>\n",
       "    <tr>\n",
       "      <th>1</th>\n",
       "      <td>2398795</td>\n",
       "      <td>1</td>\n",
       "      <td>2</td>\n",
       "      <td>3</td>\n",
       "      <td>7</td>\n",
       "      <td>15.0</td>\n",
       "      <td>196</td>\n",
       "      <td>1</td>\n",
       "      <td>1</td>\n",
       "      <td>Soda</td>\n",
       "      <td>...</td>\n",
       "      <td>Non-frequent customer</td>\n",
       "      <td>Linda</td>\n",
       "      <td>Nguyen</td>\n",
       "      <td>Female</td>\n",
       "      <td>Alabama</td>\n",
       "      <td>31</td>\n",
       "      <td>2/17/2019</td>\n",
       "      <td>3</td>\n",
       "      <td>married</td>\n",
       "      <td>40423</td>\n",
       "    </tr>\n",
       "    <tr>\n",
       "      <th>2</th>\n",
       "      <td>473747</td>\n",
       "      <td>1</td>\n",
       "      <td>3</td>\n",
       "      <td>3</td>\n",
       "      <td>12</td>\n",
       "      <td>21.0</td>\n",
       "      <td>196</td>\n",
       "      <td>1</td>\n",
       "      <td>1</td>\n",
       "      <td>Soda</td>\n",
       "      <td>...</td>\n",
       "      <td>Non-frequent customer</td>\n",
       "      <td>Linda</td>\n",
       "      <td>Nguyen</td>\n",
       "      <td>Female</td>\n",
       "      <td>Alabama</td>\n",
       "      <td>31</td>\n",
       "      <td>2/17/2019</td>\n",
       "      <td>3</td>\n",
       "      <td>married</td>\n",
       "      <td>40423</td>\n",
       "    </tr>\n",
       "    <tr>\n",
       "      <th>3</th>\n",
       "      <td>2254736</td>\n",
       "      <td>1</td>\n",
       "      <td>4</td>\n",
       "      <td>4</td>\n",
       "      <td>7</td>\n",
       "      <td>29.0</td>\n",
       "      <td>196</td>\n",
       "      <td>1</td>\n",
       "      <td>1</td>\n",
       "      <td>Soda</td>\n",
       "      <td>...</td>\n",
       "      <td>Non-frequent customer</td>\n",
       "      <td>Linda</td>\n",
       "      <td>Nguyen</td>\n",
       "      <td>Female</td>\n",
       "      <td>Alabama</td>\n",
       "      <td>31</td>\n",
       "      <td>2/17/2019</td>\n",
       "      <td>3</td>\n",
       "      <td>married</td>\n",
       "      <td>40423</td>\n",
       "    </tr>\n",
       "    <tr>\n",
       "      <th>4</th>\n",
       "      <td>431534</td>\n",
       "      <td>1</td>\n",
       "      <td>5</td>\n",
       "      <td>4</td>\n",
       "      <td>15</td>\n",
       "      <td>28.0</td>\n",
       "      <td>196</td>\n",
       "      <td>1</td>\n",
       "      <td>1</td>\n",
       "      <td>Soda</td>\n",
       "      <td>...</td>\n",
       "      <td>Non-frequent customer</td>\n",
       "      <td>Linda</td>\n",
       "      <td>Nguyen</td>\n",
       "      <td>Female</td>\n",
       "      <td>Alabama</td>\n",
       "      <td>31</td>\n",
       "      <td>2/17/2019</td>\n",
       "      <td>3</td>\n",
       "      <td>married</td>\n",
       "      <td>40423</td>\n",
       "    </tr>\n",
       "  </tbody>\n",
       "</table>\n",
       "<p>5 rows × 29 columns</p>\n",
       "</div>"
      ],
      "text/plain": [
       "   order_id  user_id  order_number  order_dow  order_hour_of_day  \\\n",
       "0   2539329        1             1          2                  8   \n",
       "1   2398795        1             2          3                  7   \n",
       "2    473747        1             3          3                 12   \n",
       "3   2254736        1             4          4                  7   \n",
       "4    431534        1             5          4                 15   \n",
       "\n",
       "   days_since_prior_order  product_id  add_to_cart_order  reordered  \\\n",
       "0                     NaN         196                  1          0   \n",
       "1                    15.0         196                  1          1   \n",
       "2                    21.0         196                  1          1   \n",
       "3                    29.0         196                  1          1   \n",
       "4                    28.0         196                  1          1   \n",
       "\n",
       "  product_name  ...         frequency_flag  First Name  Last Name  Gender  \\\n",
       "0         Soda  ...  Non-frequent customer       Linda     Nguyen  Female   \n",
       "1         Soda  ...  Non-frequent customer       Linda     Nguyen  Female   \n",
       "2         Soda  ...  Non-frequent customer       Linda     Nguyen  Female   \n",
       "3         Soda  ...  Non-frequent customer       Linda     Nguyen  Female   \n",
       "4         Soda  ...  Non-frequent customer       Linda     Nguyen  Female   \n",
       "\n",
       "     State Age  Date Joined Dependants   Status income  \n",
       "0  Alabama  31    2/17/2019          3  married  40423  \n",
       "1  Alabama  31    2/17/2019          3  married  40423  \n",
       "2  Alabama  31    2/17/2019          3  married  40423  \n",
       "3  Alabama  31    2/17/2019          3  married  40423  \n",
       "4  Alabama  31    2/17/2019          3  married  40423  \n",
       "\n",
       "[5 rows x 29 columns]"
      ]
     },
     "execution_count": 5,
     "metadata": {},
     "output_type": "execute_result"
    }
   ],
   "source": [
    "# first 5 rows of merge\n",
    "merge.head()"
   ]
  },
  {
   "cell_type": "code",
   "execution_count": 6,
   "id": "4d0050f5",
   "metadata": {},
   "outputs": [
    {
     "name": "stdout",
     "output_type": "stream",
     "text": [
      "<class 'pandas.core.frame.DataFrame'>\n",
      "Int64Index: 32434212 entries, 0 to 32434211\n",
      "Data columns (total 29 columns):\n",
      " #   Column                  Dtype   \n",
      "---  ------                  -----   \n",
      " 0   order_id                int64   \n",
      " 1   user_id                 int64   \n",
      " 2   order_number            int64   \n",
      " 3   order_dow               int64   \n",
      " 4   order_hour_of_day       int64   \n",
      " 5   days_since_prior_order  float64 \n",
      " 6   product_id              int64   \n",
      " 7   add_to_cart_order       int64   \n",
      " 8   reordered               int64   \n",
      " 9   product_name            object  \n",
      " 10  aisle_id                int64   \n",
      " 11  department_id           int64   \n",
      " 12  prices                  float64 \n",
      " 13  _merge                  category\n",
      " 14  max_order               int64   \n",
      " 15  loyalty_flag            object  \n",
      " 16  average_price           float64 \n",
      " 17  spending_flag           object  \n",
      " 18  median_prior_orders     float64 \n",
      " 19  frequency_flag          object  \n",
      " 20  First Name              object  \n",
      " 21  Last Name               object  \n",
      " 22  Gender                  object  \n",
      " 23  State                   object  \n",
      " 24  Age                     int64   \n",
      " 25  Date Joined             object  \n",
      " 26  Dependants              int64   \n",
      " 27  Status                  object  \n",
      " 28  income                  int64   \n",
      "dtypes: category(1), float64(4), int64(14), object(10)\n",
      "memory usage: 7.0+ GB\n"
     ]
    }
   ],
   "source": [
    "# Check merge info\n",
    "merge.info()"
   ]
  },
  {
   "cell_type": "markdown",
   "id": "e3e87df4",
   "metadata": {},
   "source": [
    "# Step 2"
   ]
  },
  {
   "cell_type": "markdown",
   "id": "41125412",
   "metadata": {},
   "source": [
    "## Consider any security implications that might exist for this new data. You’ll need to address any PII data in the data before continuing your analysis."
   ]
  },
  {
   "cell_type": "markdown",
   "id": "f390e248",
   "metadata": {},
   "source": [
    "### First and last name are both personal information and needs to be removed for security purposes. "
   ]
  },
  {
   "cell_type": "code",
   "execution_count": 7,
   "id": "e661ddbc",
   "metadata": {},
   "outputs": [],
   "source": [
    "# Remove \"First Name\" and \"Last Name\" columns\n",
    "merge = merge.drop(columns = ['First Name', 'Last Name'])"
   ]
  },
  {
   "cell_type": "code",
   "execution_count": 8,
   "id": "282354f7",
   "metadata": {},
   "outputs": [
    {
     "data": {
      "text/plain": [
       "Index(['order_id', 'user_id', 'order_number', 'order_dow', 'order_hour_of_day',\n",
       "       'days_since_prior_order', 'product_id', 'add_to_cart_order',\n",
       "       'reordered', 'product_name', 'aisle_id', 'department_id', 'prices',\n",
       "       '_merge', 'max_order', 'loyalty_flag', 'average_price', 'spending_flag',\n",
       "       'median_prior_orders', 'frequency_flag', 'Gender', 'State', 'Age',\n",
       "       'Date Joined', 'Dependants', 'Status', 'income'],\n",
       "      dtype='object')"
      ]
     },
     "execution_count": 8,
     "metadata": {},
     "output_type": "execute_result"
    }
   ],
   "source": [
    "merge.columns"
   ]
  },
  {
   "cell_type": "markdown",
   "id": "307792d5",
   "metadata": {},
   "source": [
    "# Step 3"
   ]
  },
  {
   "cell_type": "code",
   "execution_count": 53,
   "id": "bf9cbabf",
   "metadata": {},
   "outputs": [],
   "source": [
    "# Create \"Region\" column list\n",
    "region = []"
   ]
  },
  {
   "cell_type": "code",
   "execution_count": 54,
   "id": "4d048da0",
   "metadata": {},
   "outputs": [],
   "source": [
    "# Add states to region data based on Wikipedia\n",
    "for value in merge['State']:\n",
    "    if value in ['Maine', 'New Hampshire', 'Vermont', 'Massachusetts', 'Rhode Island', 'Connecticut', 'New York', 'Pennsylvania', 'New Jersey']:\n",
    "        region.append('Northeast')\n",
    "    elif value in ['Wisconsin', 'Michigan', 'Illinois', 'Indiana', 'Ohio', 'North Dakota', 'South Dakota', 'Nebraska', 'Kansas', 'Minnesota', 'Iowa', 'Missouri']:\n",
    "        region.append('Midwest')\n",
    "    elif value in ['Delaware', 'Maryland', 'District of Columbia', 'Virginia', 'West Virginia', 'North Carolina', 'South Carolina', 'Georgia', 'Florida', 'Kentucky', 'Tennessee', 'Mississippi', 'Alabama', 'Oklahoma', 'Texas', 'Arkansas', 'Louisiana']:\n",
    "        region.append('South')\n",
    "    else:\n",
    "        region.append('West')"
   ]
  },
  {
   "cell_type": "code",
   "execution_count": 55,
   "id": "3315ceca",
   "metadata": {},
   "outputs": [],
   "source": [
    "# Add the new \"Region\" column to merge\n",
    "merge['region'] = region"
   ]
  },
  {
   "cell_type": "code",
   "execution_count": 60,
   "id": "94dfc210",
   "metadata": {},
   "outputs": [
    {
     "data": {
      "text/plain": [
       "South        10801610\n",
       "West          8300445\n",
       "Midwest       7603810\n",
       "Northeast     5728347\n",
       "Name: region, dtype: int64"
      ]
     },
     "execution_count": 60,
     "metadata": {},
     "output_type": "execute_result"
    }
   ],
   "source": [
    "merge['region'].value_counts()"
   ]
  },
  {
   "cell_type": "code",
   "execution_count": 61,
   "id": "232ce7fd",
   "metadata": {},
   "outputs": [],
   "source": [
    "# Create crosstab between \"region\" and \"spending_flag\"\n",
    "crosstab_region_spending = pd.crosstab(merge['region'], merge['spending_flag'], dropna = False)"
   ]
  },
  {
   "cell_type": "code",
   "execution_count": 62,
   "id": "445d0f59",
   "metadata": {},
   "outputs": [
    {
     "data": {
      "text/html": [
       "<div>\n",
       "<style scoped>\n",
       "    .dataframe tbody tr th:only-of-type {\n",
       "        vertical-align: middle;\n",
       "    }\n",
       "\n",
       "    .dataframe tbody tr th {\n",
       "        vertical-align: top;\n",
       "    }\n",
       "\n",
       "    .dataframe thead th {\n",
       "        text-align: right;\n",
       "    }\n",
       "</style>\n",
       "<table border=\"1\" class=\"dataframe\">\n",
       "  <thead>\n",
       "    <tr style=\"text-align: right;\">\n",
       "      <th>spending_flag</th>\n",
       "      <th>High spender</th>\n",
       "      <th>Low spender</th>\n",
       "    </tr>\n",
       "    <tr>\n",
       "      <th>region</th>\n",
       "      <th></th>\n",
       "      <th></th>\n",
       "    </tr>\n",
       "  </thead>\n",
       "  <tbody>\n",
       "    <tr>\n",
       "      <th>Midwest</th>\n",
       "      <td>7596096</td>\n",
       "      <td>7714</td>\n",
       "    </tr>\n",
       "    <tr>\n",
       "      <th>Northeast</th>\n",
       "      <td>5722788</td>\n",
       "      <td>5559</td>\n",
       "    </tr>\n",
       "    <tr>\n",
       "      <th>South</th>\n",
       "      <td>10791721</td>\n",
       "      <td>9889</td>\n",
       "    </tr>\n",
       "    <tr>\n",
       "      <th>West</th>\n",
       "      <td>8292030</td>\n",
       "      <td>8415</td>\n",
       "    </tr>\n",
       "  </tbody>\n",
       "</table>\n",
       "</div>"
      ],
      "text/plain": [
       "spending_flag  High spender  Low spender\n",
       "region                                  \n",
       "Midwest             7596096         7714\n",
       "Northeast           5722788         5559\n",
       "South              10791721         9889\n",
       "West                8292030         8415"
      ]
     },
     "execution_count": 62,
     "metadata": {},
     "output_type": "execute_result"
    }
   ],
   "source": [
    "# Check region_spending info\n",
    "crosstab_region_spending"
   ]
  },
  {
   "cell_type": "code",
   "execution_count": 75,
   "id": "298e8f05",
   "metadata": {},
   "outputs": [
    {
     "data": {
      "image/png": "[encoded data removed]",
      "text/plain": [
       "<Figure size 640x480 with 1 Axes>"
      ]
     },
     "metadata": {},
     "output_type": "display_data"
    }
   ],
   "source": [
    "# Create a bar chart for High Spenders + Low Spenders per region\n",
    "bar_spending_region = crosstab_region_spending.plot.bar(stacked=True)"
   ]
  },
  {
   "cell_type": "code",
   "execution_count": 76,
   "id": "ae10ad94",
   "metadata": {},
   "outputs": [],
   "source": [
    "# Save the visualization as png\n",
    "bar_spending_region.figure.savefig(os.path.join(path, '04 Analysis', 'Visualizations', 'bar_spending_region.png'))"
   ]
  },
  {
   "cell_type": "code",
   "execution_count": null,
   "id": "74af635c",
   "metadata": {},
   "outputs": [],
   "source": [
    "merge.columns"
   ]
  },
  {
   "cell_type": "code",
   "execution_count": null,
   "id": "9cc511ec",
   "metadata": {},
   "outputs": [],
   "source": [
    "merge.head()"
   ]
  },
  {
   "cell_type": "markdown",
   "id": "3049e96a",
   "metadata": {},
   "source": [
    "## Determine whether there’s a difference in spending habits between the different U.S. regions. (Hint: You can do this by crossing the variable you just created with the spending flag.)"
   ]
  },
  {
   "cell_type": "code",
   "execution_count": null,
   "id": "342b2c96",
   "metadata": {},
   "outputs": [],
   "source": [
    "# Create crosstab with spending flag between different regions\n",
    "\n",
    "region_spending_crosstab = pd.crosstab(merge['Region'], merge['spending_flag'], dropna = False) "
   ]
  },
  {
   "cell_type": "code",
   "execution_count": null,
   "id": "fb922de7",
   "metadata": {},
   "outputs": [],
   "source": [
    "# Crosstab region spending\n",
    "region_spending_crosstab"
   ]
  },
  {
   "cell_type": "markdown",
   "id": "c5a55bbc",
   "metadata": {},
   "source": [
    "# Step 4"
   ]
  },
  {
   "cell_type": "markdown",
   "id": "d3bdb80e",
   "metadata": {},
   "source": [
    "## The Instacart CFO isn’t interested in customers who don’t generate much revenue for the app. Create an exclusion flag for low-activity customers (customers with less than 5 orders) and exclude them from the data. Make sure you export this sample."
   ]
  },
  {
   "cell_type": "code",
   "execution_count": null,
   "id": "e3df47e2",
   "metadata": {},
   "outputs": [],
   "source": [
    "# Create an exclusion flag for low-activity customers (customers with less than 5 orders)\n",
    "merge.loc[merge['max_order'] < 5, 'low_order_flag'] = 'Low Activity Customer'"
   ]
  },
  {
   "cell_type": "code",
   "execution_count": null,
   "id": "e080dc22",
   "metadata": {},
   "outputs": [],
   "source": [
    "# Create an exclusion flag for high-activity customers (customers with more than 5 orders)\n",
    "merge.loc[merge['max_order'] >= 5, 'low_order_flag'] = 'High Activity Customer'"
   ]
  },
  {
   "cell_type": "code",
   "execution_count": null,
   "id": "3739ae9e",
   "metadata": {},
   "outputs": [],
   "source": [
    "# Customer activity value counts\n",
    "merge['low_order_flag'].value_counts(dropna = False)"
   ]
  },
  {
   "cell_type": "code",
   "execution_count": null,
   "id": "0155e335",
   "metadata": {},
   "outputs": [],
   "source": [
    "# Sample to save on CPU memory\n",
    "merge = merge[:1000000]"
   ]
  },
  {
   "cell_type": "code",
   "execution_count": null,
   "id": "937b6e62",
   "metadata": {},
   "outputs": [],
   "source": [
    "# Making a sample with high-activity customers only\n",
    "merge_high_activity_customers = merge[merge['low_order_flag'] == 'High Activity Customer']"
   ]
  },
  {
   "cell_type": "code",
   "execution_count": null,
   "id": "cb2381df",
   "metadata": {},
   "outputs": [],
   "source": [
    "# Export the sample\n",
    "merge_high_activity_customers.to_pickle(os.path.join(path, '02 Data', 'Prepared Data', 'customers_high_activity.pkl'))"
   ]
  },
  {
   "cell_type": "code",
   "execution_count": null,
   "id": "8fc7d3c6",
   "metadata": {},
   "outputs": [],
   "source": [
    "merge_high_activity_customers.shape"
   ]
  },
  {
   "cell_type": "markdown",
   "id": "542d60d9",
   "metadata": {},
   "source": [
    "# Step 5"
   ]
  },
  {
   "cell_type": "markdown",
   "id": "829de888",
   "metadata": {},
   "source": [
    "## Create a profiling variable based on age, income, certain goods in the “department_id” column, and number of dependents. You might also use the “orders_day_of_the_week” and “order_hour_of_day” columns if you can think of a way they would impact customer profiles."
   ]
  },
  {
   "cell_type": "markdown",
   "id": "3acb55f2",
   "metadata": {},
   "source": [
    "# Age"
   ]
  },
  {
   "cell_type": "code",
   "execution_count": null,
   "id": "fe683a93",
   "metadata": {},
   "outputs": [],
   "source": [
    "# Create an Age Profile - Child < 12\n",
    "merge_high_activity_customers.loc[merge_high_activity_customers['Age'] <= 12, 'Age Profile'] = 'Child'"
   ]
  },
  {
   "cell_type": "code",
   "execution_count": null,
   "id": "3539e6ab",
   "metadata": {},
   "outputs": [],
   "source": [
    "# Create an Age Profile - Teen 13 to 17\n",
    "merge_high_activity_customers.loc[(merge_high_activity_customers['Age'] >= 13) & (merge_high_activity_customers['Age'] <= 17), 'Age Profile'] = 'Teen'"
   ]
  },
  {
   "cell_type": "code",
   "execution_count": null,
   "id": "af0f35e4",
   "metadata": {},
   "outputs": [],
   "source": [
    "# Create an Age Profile - Young Adult 18 to 35\n",
    "merge_high_activity_customers.loc[(merge_high_activity_customers['Age'] >= 18) & (merge_high_activity_customers['Age'] <= 35), 'Age Profile'] = 'Young Adult'"
   ]
  },
  {
   "cell_type": "code",
   "execution_count": null,
   "id": "2c55d0ad",
   "metadata": {},
   "outputs": [],
   "source": [
    "# Create an Age Profile - Adult 36 to 64\n",
    "merge_high_activity_customers.loc[(merge_high_activity_customers['Age'] >= 36) & (merge_high_activity_customers['Age'] <= 64), 'Age Profile'] = 'Adult'"
   ]
  },
  {
   "cell_type": "code",
   "execution_count": null,
   "id": "70654ff0",
   "metadata": {},
   "outputs": [],
   "source": [
    "# Create an Age Profile - Old Adult >= 65\n",
    "merge_high_activity_customers.loc[merge_high_activity_customers['Age'] >= 65, 'Age Profile'] = 'Old Adult'"
   ]
  },
  {
   "cell_type": "code",
   "execution_count": null,
   "id": "48060fad",
   "metadata": {},
   "outputs": [],
   "source": [
    "merge_high_activity_customers.head()"
   ]
  },
  {
   "cell_type": "code",
   "execution_count": null,
   "id": "d7d221e0",
   "metadata": {},
   "outputs": [],
   "source": [
    "# Check age frequency\n",
    "merge_high_activity_customers['Age Profile'].value_counts(dropna = False)"
   ]
  },
  {
   "cell_type": "markdown",
   "id": "9110e40d",
   "metadata": {},
   "source": [
    "# Income"
   ]
  },
  {
   "cell_type": "code",
   "execution_count": null,
   "id": "470a0106",
   "metadata": {},
   "outputs": [],
   "source": [
    "# Histogram of customer income\n",
    "\n",
    "hist_customer_income = merge_high_activity_customers['income'].plot.hist(bins = 50, color = ['blue'], ec = 'orange')"
   ]
  },
  {
   "cell_type": "code",
   "execution_count": null,
   "id": "07fcb102",
   "metadata": {},
   "outputs": [],
   "source": [
    "# Create Income Profile - Low-income <=50,000\n",
    "merge_high_activity_customers.loc[merge_high_activity_customers['income'] <= 50000, 'Income Profile'] = 'Low-income'"
   ]
  },
  {
   "cell_type": "code",
   "execution_count": null,
   "id": "86a4c467",
   "metadata": {},
   "outputs": [],
   "source": [
    "# Create Income Profile - Mid-income 50,001 to 75,000\n",
    "merge_high_activity_customers.loc[(merge_high_activity_customers['income'] >= 50001) & (merge_high_activity_customers['income'] <= 75000), 'Income Profile'] = 'Middle-income'"
   ]
  },
  {
   "cell_type": "code",
   "execution_count": null,
   "id": "ca694736",
   "metadata": {},
   "outputs": [],
   "source": [
    "# Create Income Profile - High-income 75,001 to 120,000\n",
    "merge_high_activity_customers.loc[(merge_high_activity_customers['income'] >= 75001) & (merge_high_activity_customers['income'] <= 120000), 'Income Profile'] = 'High-income'"
   ]
  },
  {
   "cell_type": "code",
   "execution_count": null,
   "id": "7d3e8a6f",
   "metadata": {},
   "outputs": [],
   "source": [
    "# Create Income Profile - Very-High-income >120,000\n",
    "merge_high_activity_customers.loc[merge_high_activity_customers['income'] > 120000, 'Income Profile'] = 'Very High-income'"
   ]
  },
  {
   "cell_type": "code",
   "execution_count": null,
   "id": "8a425988",
   "metadata": {},
   "outputs": [],
   "source": [
    "merge_high_activity_customers.head()"
   ]
  },
  {
   "cell_type": "code",
   "execution_count": null,
   "id": "ed39511d",
   "metadata": {},
   "outputs": [],
   "source": [
    "# Check income frequency\n",
    "merge_high_activity_customers['Income Profile'].value_counts(dropna = False)"
   ]
  },
  {
   "cell_type": "markdown",
   "id": "4f2b76b2",
   "metadata": {},
   "source": [
    "# Department"
   ]
  },
  {
   "cell_type": "markdown",
   "id": "22ea9ac6",
   "metadata": {},
   "source": [
    "### Customers will be labeled as either \"Vegan\" or \"Non-Vegan\""
   ]
  },
  {
   "cell_type": "code",
   "execution_count": null,
   "id": "7edc69ee",
   "metadata": {},
   "outputs": [],
   "source": [
    "# Creating a crosstab between Department_ID and User_ID\n",
    "dep_crosstab = pd.crosstab(merge_high_activity_customers['department_id'], merge_high_activity_customers['user_id'], dropna = False)"
   ]
  },
  {
   "cell_type": "code",
   "execution_count": null,
   "id": "ad86c817",
   "metadata": {},
   "outputs": [],
   "source": [
    "# Assign nutrition flags as Vegan or Non-Vegan\n",
    "vegan_dict = dict()\n",
    "for user in dep_crosstab:\n",
    "    workinglist = dep_crosstab[user].tolist()\n",
    "    if workinglist[11] == 0 and workinglist[15] == 0:\n",
    "        vegan_dict[user] = 'Vegan'\n",
    "    else:\n",
    "        vegan_dict[user] = 'Non-vegan'"
   ]
  },
  {
   "cell_type": "code",
   "execution_count": null,
   "id": "399592f2",
   "metadata": {},
   "outputs": [],
   "source": [
    "# Assign \"vegan_flag\"\n",
    "vegan_flag = []\n",
    "for user in merge_high_activity_customers['user_id']:\n",
    "    vegan_flag.append(vegan_dict[user])"
   ]
  },
  {
   "cell_type": "code",
   "execution_count": null,
   "id": "e3fc2332",
   "metadata": {},
   "outputs": [],
   "source": [
    "# Add vegan_flag to merge_high_activity_customers as Vegan_profile\n",
    "merge_high_activity_customers['Vegan Profile'] = vegan_flag"
   ]
  },
  {
   "cell_type": "code",
   "execution_count": null,
   "id": "1b2a73cc",
   "metadata": {},
   "outputs": [],
   "source": [
    "# First 5 rows of merge_high_activity_customers\n",
    "merge_high_activity_customers.head()"
   ]
  },
  {
   "cell_type": "code",
   "execution_count": null,
   "id": "2ff199ed",
   "metadata": {},
   "outputs": [],
   "source": [
    "# Check Vegan frequency\n",
    "merge_high_activity_customers['Vegan Profile'].value_counts(dropna = False)"
   ]
  },
  {
   "cell_type": "markdown",
   "id": "4b8f7297",
   "metadata": {},
   "source": [
    "# Family status and number of dependants"
   ]
  },
  {
   "cell_type": "code",
   "execution_count": null,
   "id": "9a9a2570",
   "metadata": {},
   "outputs": [],
   "source": [
    "# Check \"Status\" frequency\n",
    "merge_high_activity_customers['Status'].value_counts(dropna = False)"
   ]
  },
  {
   "cell_type": "code",
   "execution_count": null,
   "id": "9a5cbc21",
   "metadata": {},
   "outputs": [],
   "source": [
    "# Create crosstab for \"Dependants\" and \"Status\"\n",
    "family_crosstab = pd.crosstab(merge_high_activity_customers['Status'], merge_high_activity_customers['Dependants'], dropna = False)"
   ]
  },
  {
   "cell_type": "code",
   "execution_count": null,
   "id": "cd69c686",
   "metadata": {},
   "outputs": [],
   "source": [
    "# Check family_crosstab\n",
    "family_crosstab"
   ]
  },
  {
   "cell_type": "code",
   "execution_count": null,
   "id": "85c47472",
   "metadata": {},
   "outputs": [],
   "source": [
    "# Creating \"Married, no children/dependants\" - Married + 0 Children/Dependants\n",
    "merge_high_activity_customers.loc[(merge_high_activity_customers['Status'] == 'married') & (merge_high_activity_customers['Dependants'] == 0), 'Family Profile'] = 'Married, no children/dependants'"
   ]
  },
  {
   "cell_type": "code",
   "execution_count": null,
   "id": "efc9ea09",
   "metadata": {},
   "outputs": [],
   "source": [
    "# Creating \"Married, with children/dependants\" - Married + >=1 Children/Dependants\n",
    "merge_high_activity_customers.loc[(merge_high_activity_customers['Status'] == 'married') & (merge_high_activity_customers['Dependants'] >= 1), 'Family Profile'] = 'Married, with children/dependants'"
   ]
  },
  {
   "cell_type": "code",
   "execution_count": null,
   "id": "843a4b6d",
   "metadata": {},
   "outputs": [],
   "source": [
    "# Creating \"Not Married, no children/dependants\" - Not Married + 0 Children/Dependants\n",
    "merge_high_activity_customers.loc[(merge_high_activity_customers['Status'] != 'married') & (merge_high_activity_customers['Dependants'] == 0), 'Family Profile'] = 'Not Married, no children/dependants'"
   ]
  },
  {
   "cell_type": "code",
   "execution_count": null,
   "id": "49493528",
   "metadata": {},
   "outputs": [],
   "source": [
    "# Creating \"Not Married, with children/dependants\" - Not Married + >=1 Children/Dependants\n",
    "merge_high_activity_customers.loc[(merge_high_activity_customers['Status'] != 'married') & (merge_high_activity_customers['Dependants'] >= 1), 'Family Profile'] = 'Not Married, with children/dependants'"
   ]
  },
  {
   "cell_type": "code",
   "execution_count": null,
   "id": "7a40a636",
   "metadata": {},
   "outputs": [],
   "source": [
    "merge_high_activity_customers.head()"
   ]
  },
  {
   "cell_type": "code",
   "execution_count": null,
   "id": "501ffb15",
   "metadata": {},
   "outputs": [],
   "source": [
    "# Check \"Family Profile\" frequency\n",
    "merge_high_activity_customers['Family Profile'].value_counts(dropna = False)"
   ]
  },
  {
   "cell_type": "markdown",
   "id": "5aba0fa7",
   "metadata": {},
   "source": [
    "# Step 6"
   ]
  },
  {
   "cell_type": "markdown",
   "id": "20115924",
   "metadata": {},
   "source": [
    "## Create an appropriate visualization to show the distribution of profiles."
   ]
  },
  {
   "cell_type": "code",
   "execution_count": null,
   "id": "da6d6ee8",
   "metadata": {},
   "outputs": [],
   "source": [
    "# Age\n",
    "age_profile_bar = merge_high_activity_customers['Age Profile'].value_counts(dropna = False).plot.bar(color = ['blue', 'red', 'yellow'])"
   ]
  },
  {
   "cell_type": "code",
   "execution_count": null,
   "id": "41da9d0e",
   "metadata": {},
   "outputs": [],
   "source": [
    "# Exporting outside of jupyter in image file\n",
    "age_profile_bar.figure.savefig(os.path.join(path, '04 Analysis', 'Visualizations', 'age_profile_bar.png'))"
   ]
  },
  {
   "cell_type": "code",
   "execution_count": null,
   "id": "c6f2403e",
   "metadata": {},
   "outputs": [],
   "source": [
    "# Income\n",
    "income_profile_bar = merge_high_activity_customers['Income Profile'].value_counts(dropna = False).plot.bar(color = ['purple', 'red', 'green'])"
   ]
  },
  {
   "cell_type": "code",
   "execution_count": null,
   "id": "61f148b0",
   "metadata": {},
   "outputs": [],
   "source": [
    "# Exporting outside of jupyter in image file\n",
    "income_profile_bar.figure.savefig(os.path.join(path, '04 Analysis', 'Visualizations', 'income_profile_bar.png'))"
   ]
  },
  {
   "cell_type": "code",
   "execution_count": null,
   "id": "34b43ae4",
   "metadata": {},
   "outputs": [],
   "source": [
    "# Vegan or Non-Vegan\n",
    "vegan_profile_bar = merge_high_activity_customers['Vegan Profile'].value_counts(dropna = False).plot.bar(color = ['purple', 'red'])"
   ]
  },
  {
   "cell_type": "code",
   "execution_count": null,
   "id": "eb9e2ec6",
   "metadata": {},
   "outputs": [],
   "source": [
    "# Exporting outside of jupyter in image file\n",
    "vegan_profile_bar.figure.savefig(os.path.join(path, '04 Analysis', 'Visualizations', 'vegan_profile_bar.png'))"
   ]
  },
  {
   "cell_type": "code",
   "execution_count": null,
   "id": "d2d44825",
   "metadata": {},
   "outputs": [],
   "source": [
    "# Family Status\n",
    "family_profile_bar = merge_high_activity_customers['Family Profile'].value_counts(dropna = False).plot.bar(color = ['yellow', 'red', 'blue'])"
   ]
  },
  {
   "cell_type": "code",
   "execution_count": null,
   "id": "4370d462",
   "metadata": {},
   "outputs": [],
   "source": [
    "# Exporting outside of jupyter in image file\n",
    "family_profile_bar.figure.savefig(os.path.join(path, '04 Analysis', 'Visualizations', 'family_profile_bar.png'))"
   ]
  },
  {
   "cell_type": "markdown",
   "id": "5ed55d1d",
   "metadata": {},
   "source": [
    "# Step 7"
   ]
  },
  {
   "cell_type": "markdown",
   "id": "d480494d",
   "metadata": {},
   "source": [
    "## Aggregate the max, mean, and min variables on a customer-profile level for usage frequency and expenditure."
   ]
  },
  {
   "cell_type": "code",
   "execution_count": null,
   "id": "dffe85b7",
   "metadata": {},
   "outputs": [],
   "source": [
    "# Stats for Age Profile\n",
    "merge_high_activity_customers.groupby('Age Profile').agg({'days_since_prior_order': ['min', 'mean', 'max'], 'prices': ['min', 'mean', 'max']})"
   ]
  },
  {
   "cell_type": "code",
   "execution_count": null,
   "id": "eed1a733",
   "metadata": {},
   "outputs": [],
   "source": [
    "# Stats for Income Profile\n",
    "merge_high_activity_customers.groupby('Income Profile').agg({'days_since_prior_order': ['min', 'mean', 'max'], 'prices': ['min', 'mean', 'max']})"
   ]
  },
  {
   "cell_type": "code",
   "execution_count": null,
   "id": "15641cd5",
   "metadata": {},
   "outputs": [],
   "source": [
    "# Stats for Vegan Profile\n",
    "merge_high_activity_customers.groupby('Vegan Profile').agg({'days_since_prior_order': ['min', 'mean', 'max'], 'prices': ['min', 'mean', 'max']})"
   ]
  },
  {
   "cell_type": "code",
   "execution_count": null,
   "id": "bb001ef8",
   "metadata": {},
   "outputs": [],
   "source": [
    "# Stats for Family Status Profile\n",
    "merge_high_activity_customers.groupby('Family Profile').agg({'days_since_prior_order': ['min', 'mean', 'max'], 'prices': ['min', 'mean', 'max']})"
   ]
  },
  {
   "cell_type": "markdown",
   "id": "7eb7769d",
   "metadata": {},
   "source": [
    "# Step 8"
   ]
  },
  {
   "cell_type": "markdown",
   "id": "6211c835",
   "metadata": {},
   "source": [
    "## Compare your customer profiles with regions and departments. Can you identify a link between them? Customers may demonstrate different behaviors across regions, which could make this information important."
   ]
  },
  {
   "cell_type": "markdown",
   "id": "d8c0bb6b",
   "metadata": {},
   "source": [
    "### Age"
   ]
  },
  {
   "cell_type": "code",
   "execution_count": null,
   "id": "87940d74",
   "metadata": {},
   "outputs": [],
   "source": [
    "# Create crosstab comparing \"Age Profile\" and \"Region\"\n",
    "age_region_cross = pd.crosstab(merge_high_activity_customers['Age Profile'], merge_high_activity_customers['Region'], dropna = False, normalize = 'columns')"
   ]
  },
  {
   "cell_type": "code",
   "execution_count": null,
   "id": "e7d94ae0",
   "metadata": {},
   "outputs": [],
   "source": [
    "# Check age_region_cross\n",
    "age_region_cross"
   ]
  },
  {
   "cell_type": "markdown",
   "id": "6462388a",
   "metadata": {},
   "source": [
    "#### Adult leads every region. Each age profile stays consistant among the different regions"
   ]
  },
  {
   "cell_type": "markdown",
   "id": "acbbf7aa",
   "metadata": {},
   "source": [
    "### Income"
   ]
  },
  {
   "cell_type": "code",
   "execution_count": null,
   "id": "f970e917",
   "metadata": {},
   "outputs": [],
   "source": [
    "# Create crosstab comparing \"Income Profile\" and \"Region\"\n",
    "income_region_cross = pd.crosstab(merge_high_activity_customers['Income Profile'], merge_high_activity_customers['Region'], dropna = False, normalize = 'columns')"
   ]
  },
  {
   "cell_type": "code",
   "execution_count": null,
   "id": "b0f5c7dd",
   "metadata": {},
   "outputs": [],
   "source": [
    "# Check income_region_cross\n",
    "income_region_cross"
   ]
  },
  {
   "cell_type": "markdown",
   "id": "dfa647a6",
   "metadata": {},
   "source": [
    "#### Low income leads in every region. Each income profile stays consistant among the different regions"
   ]
  },
  {
   "cell_type": "markdown",
   "id": "3017684b",
   "metadata": {},
   "source": [
    "### Vegan / Non-Vegan"
   ]
  },
  {
   "cell_type": "code",
   "execution_count": null,
   "id": "62661e12",
   "metadata": {},
   "outputs": [],
   "source": [
    "# Create crosstab comparing \"Vegan Profile\" and \"Region\"\n",
    "vegan_region_cross = pd.crosstab(merge_high_activity_customers['Vegan Profile'], merge_high_activity_customers['Region'], dropna = False, normalize = 'columns')"
   ]
  },
  {
   "cell_type": "code",
   "execution_count": null,
   "id": "18229749",
   "metadata": {},
   "outputs": [],
   "source": [
    "# Check vegan_region_cross\n",
    "vegan_region_cross"
   ]
  },
  {
   "cell_type": "markdown",
   "id": "51bf6f59",
   "metadata": {},
   "source": [
    "#### Large majority in each region is Non-Vegan"
   ]
  },
  {
   "cell_type": "markdown",
   "id": "a68d8e4f",
   "metadata": {},
   "source": [
    "### Family Status"
   ]
  },
  {
   "cell_type": "code",
   "execution_count": null,
   "id": "010b3cad",
   "metadata": {},
   "outputs": [],
   "source": [
    "# Create crosstab comparing \"Family Profile\" and \"Region\"\n",
    "family_region_cross = pd.crosstab(merge_high_activity_customers['Family Profile'], merge_high_activity_customers['Region'], dropna = False, normalize = 'columns')"
   ]
  },
  {
   "cell_type": "code",
   "execution_count": null,
   "id": "29f9e6f3",
   "metadata": {},
   "outputs": [],
   "source": [
    "# Check family_region_cross\n",
    "family_region_cross"
   ]
  },
  {
   "cell_type": "markdown",
   "id": "b2d9cb7b",
   "metadata": {},
   "source": [
    "#### Married, with children/dependants has a large majority in each region. "
   ]
  },
  {
   "cell_type": "code",
   "execution_count": null,
   "id": "bd8702d9",
   "metadata": {},
   "outputs": [],
   "source": [
    "# Export merge_high_activity_customers as .pkl\n",
    "merge_high_activity_customers.to_pickle(os.path.join(path, '02 Data','Prepared Data', 'merge_high_activity_customers.pkl'))"
   ]
  }
 ],
 "metadata": {
  "kernelspec": {
   "display_name": "Python 3 (ipykernel)",
   "language": "python",
   "name": "python3"
  },
  "language_info": {
   "codemirror_mode": {
    "name": "ipython",
    "version": 3
   },
   "file_extension": ".py",
   "mimetype": "text/x-python",
   "name": "python",
   "nbconvert_exporter": "python",
   "pygments_lexer": "ipython3",
   "version": "3.9.13"
  }
 },
 "nbformat": 4,
 "nbformat_minor": 5
}
